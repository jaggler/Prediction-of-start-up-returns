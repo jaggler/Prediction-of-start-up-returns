{
 "cells": [
  {
   "cell_type": "markdown",
   "id": "fc4ab76a",
   "metadata": {
    "jp-MarkdownHeadingCollapsed": true
   },
   "source": [
    "# Prediction of start-up returns\n",
    "\n",
    "## Problem statement\n",
    "Start-ups have become very common in the modern economy. This project is aimed at building a model that will help predict the expected returns of a particular start-up. Start-up returns very from one start-up to another. Some of the profits are high while others are low. This research is aimed at building a regression model that takes into account the business sensitive factors that influence start-up returns. In our model we use a multiple regression model to test for the significance if our business sensitive factors  ;R&D spend, administration, marketing spend and state in explaining the profit margin in a start-up.\n",
    "\n",
    "\n",
    "## Study Objectives\n",
    "The main objective of this study is to model start-up returns using the multiple regression model; case study 50 start-ups in new york, California and Florida.\n",
    "\n",
    "### The specific objectives are:\n",
    "1. To test the significance of out business sensitive factors on start-ups returns.\n",
    "2. To fit a multiple regression model using the factors that prove to be significant.\n",
    "3. To give the accuracy of our model using MAE and MSE.\n",
    "4. To give recommendations based on our model outcomes.\n",
    "\n",
    "\n",
    "## Data\n",
    "\n",
    "### Research Hypothesis\n",
    "\n",
    "To accomplish the objectives of the study and provide solutions to the research question, the following hypothesis are formulated in their respective null forms:\n",
    "* H01: R&D Spend does not significantly affect start-up returns.\n",
    "* H02: Administration does not significantly affect start-up returns.\n",
    "* H03: Marketing Spend does not significantly affect start-up returns.\n",
    "* H04: State does not significantly affect start-up returns.\n",
    "\n",
    "\n",
    "### Metric for Success\n",
    "The best performing model will be selected based on the lowest Mean Absolute Error.\n",
    "Defining the Research Question\n",
    "We will build a multiple regression model to predict the profits of a start-up\n"
   ]
  },
  {
   "cell_type": "markdown",
   "id": "abb72669",
   "metadata": {},
   "source": [
    "# Prediction of Start-up Returns\n",
    "\n",
    "# 1.Business Understanding\n",
    "## Introduction\n",
    "\n",
    "\n",
    "\n",
    "\n",
    "# 1.1Problem Statement\n",
    "\n",
    "* Start-ups have become very common in today's economy. This project aims to create a model that can predict the expected returns (profits) of a particular start-up. Start-up profits can vary widely—some make a lot of money while others do not. We will build a model that considers important factors influencing these returns, such as spending on research and development (R&D), administration costs, marketing expenses, and the state where the start-up is located.\n",
    "# 1.2 Objective\n",
    "## 1.2.1 Main Objective\n",
    "* The main goal is to use a multiple regression model to predict start-up returns. We will specifically look at 50 start-ups in New York, California, and Florida.\n",
    "## 1.2.2 Specific Objectives\n",
    "* Testing Significance: Determine how important each factor (R&D spend, administration, marketing spend, and state) is in affecting start-up returns.\n",
    "* Fitting the Model: Create a multiple regression model using the significant factors.\n",
    "* Model Accuracy: Evaluate how accurate our model is using Mean Absolute Error (MAE) and Mean Squared Error (MSE).\n",
    "* Recommendations: Provide advice based on the model's results.\n",
    "\n",
    "# 2.0 Data Collection\n",
    "## 2.1 Source of the data\n",
    "* Source: The dataset is derived from real-world data collected by telecom operators and has been simplified for learning purposes.\n",
    "\n",
    "# 3.1 Data Understanding\n",
    "### DataFrame\n"
   ]
  },
  {
   "cell_type": "code",
   "execution_count": 138,
   "id": "cbec57b1",
   "metadata": {},
   "outputs": [],
   "source": [
    "# importing libraries\n",
    "import pandas as pd\n",
    "import seaborn as sns\n",
    "import numpy as np\n",
    "import matplotlib.pyplot as plt\n",
    "from sklearn.linear_model import Lasso\n",
    "from sklearn.linear_model import Ridge\n",
    "from scipy.stats import norm\n",
    "from category_encoders import OneHotEncoder\n",
    "from sklearn.linear_model import LinearRegression\n",
    "from sklearn.model_selection import train_test_split\n",
    "from sklearn.metrics import mean_absolute_error, mean_squared_error"
   ]
  },
  {
   "cell_type": "markdown",
   "id": "19ca2956",
   "metadata": {},
   "source": [
    "### 3.1.1 Datahead\n",
    "* Datahead Displaying the first 10 rows to get an understanding of the data set"
   ]
  },
  {
   "cell_type": "code",
   "execution_count": 139,
   "id": "55987b79",
   "metadata": {},
   "outputs": [
    {
     "data": {
      "text/html": [
       "<div>\n",
       "<style scoped>\n",
       "    .dataframe tbody tr th:only-of-type {\n",
       "        vertical-align: middle;\n",
       "    }\n",
       "\n",
       "    .dataframe tbody tr th {\n",
       "        vertical-align: top;\n",
       "    }\n",
       "\n",
       "    .dataframe thead th {\n",
       "        text-align: right;\n",
       "    }\n",
       "</style>\n",
       "<table border=\"1\" class=\"dataframe\">\n",
       "  <thead>\n",
       "    <tr style=\"text-align: right;\">\n",
       "      <th></th>\n",
       "      <th>R&amp;D Spend</th>\n",
       "      <th>Administration</th>\n",
       "      <th>Marketing Spend</th>\n",
       "      <th>State</th>\n",
       "      <th>Profit</th>\n",
       "    </tr>\n",
       "  </thead>\n",
       "  <tbody>\n",
       "    <tr>\n",
       "      <th>0</th>\n",
       "      <td>165349.20</td>\n",
       "      <td>136897.80</td>\n",
       "      <td>471784.10</td>\n",
       "      <td>New York</td>\n",
       "      <td>192261.83</td>\n",
       "    </tr>\n",
       "    <tr>\n",
       "      <th>1</th>\n",
       "      <td>162597.70</td>\n",
       "      <td>151377.59</td>\n",
       "      <td>443898.53</td>\n",
       "      <td>California</td>\n",
       "      <td>191792.06</td>\n",
       "    </tr>\n",
       "    <tr>\n",
       "      <th>2</th>\n",
       "      <td>153441.51</td>\n",
       "      <td>101145.55</td>\n",
       "      <td>407934.54</td>\n",
       "      <td>Florida</td>\n",
       "      <td>191050.39</td>\n",
       "    </tr>\n",
       "    <tr>\n",
       "      <th>3</th>\n",
       "      <td>144372.41</td>\n",
       "      <td>118671.85</td>\n",
       "      <td>383199.62</td>\n",
       "      <td>New York</td>\n",
       "      <td>182901.99</td>\n",
       "    </tr>\n",
       "    <tr>\n",
       "      <th>4</th>\n",
       "      <td>142107.34</td>\n",
       "      <td>91391.77</td>\n",
       "      <td>366168.42</td>\n",
       "      <td>Florida</td>\n",
       "      <td>166187.94</td>\n",
       "    </tr>\n",
       "    <tr>\n",
       "      <th>5</th>\n",
       "      <td>131876.90</td>\n",
       "      <td>99814.71</td>\n",
       "      <td>362861.36</td>\n",
       "      <td>New York</td>\n",
       "      <td>156991.12</td>\n",
       "    </tr>\n",
       "    <tr>\n",
       "      <th>6</th>\n",
       "      <td>134615.46</td>\n",
       "      <td>147198.87</td>\n",
       "      <td>127716.82</td>\n",
       "      <td>California</td>\n",
       "      <td>156122.51</td>\n",
       "    </tr>\n",
       "    <tr>\n",
       "      <th>7</th>\n",
       "      <td>130298.13</td>\n",
       "      <td>145530.06</td>\n",
       "      <td>323876.68</td>\n",
       "      <td>Florida</td>\n",
       "      <td>155752.60</td>\n",
       "    </tr>\n",
       "    <tr>\n",
       "      <th>8</th>\n",
       "      <td>120542.52</td>\n",
       "      <td>148718.95</td>\n",
       "      <td>311613.29</td>\n",
       "      <td>New York</td>\n",
       "      <td>152211.77</td>\n",
       "    </tr>\n",
       "    <tr>\n",
       "      <th>9</th>\n",
       "      <td>123334.88</td>\n",
       "      <td>108679.17</td>\n",
       "      <td>304981.62</td>\n",
       "      <td>California</td>\n",
       "      <td>149759.96</td>\n",
       "    </tr>\n",
       "  </tbody>\n",
       "</table>\n",
       "</div>"
      ],
      "text/plain": [
       "   R&D Spend  Administration  Marketing Spend       State     Profit\n",
       "0  165349.20       136897.80        471784.10    New York  192261.83\n",
       "1  162597.70       151377.59        443898.53  California  191792.06\n",
       "2  153441.51       101145.55        407934.54     Florida  191050.39\n",
       "3  144372.41       118671.85        383199.62    New York  182901.99\n",
       "4  142107.34        91391.77        366168.42     Florida  166187.94\n",
       "5  131876.90        99814.71        362861.36    New York  156991.12\n",
       "6  134615.46       147198.87        127716.82  California  156122.51\n",
       "7  130298.13       145530.06        323876.68     Florida  155752.60\n",
       "8  120542.52       148718.95        311613.29    New York  152211.77\n",
       "9  123334.88       108679.17        304981.62  California  149759.96"
      ]
     },
     "execution_count": 139,
     "metadata": {},
     "output_type": "execute_result"
    }
   ],
   "source": [
    "df = pd.read_csv(\"C:/Users/HP/Downloads/gomycode/Machine Learning/Project_9b/Project_9/Data/1000_Companies.csv\")\n",
    "df.head(10)"
   ]
  },
  {
   "cell_type": "markdown",
   "id": "de01a84d",
   "metadata": {},
   "source": [
    "### 3.1.2 DataTail\n",
    "* Displaying the last 10 rows of the data set"
   ]
  },
  {
   "cell_type": "code",
   "execution_count": 140,
   "id": "7eb84bc1",
   "metadata": {},
   "outputs": [
    {
     "data": {
      "text/html": [
       "<div>\n",
       "<style scoped>\n",
       "    .dataframe tbody tr th:only-of-type {\n",
       "        vertical-align: middle;\n",
       "    }\n",
       "\n",
       "    .dataframe tbody tr th {\n",
       "        vertical-align: top;\n",
       "    }\n",
       "\n",
       "    .dataframe thead th {\n",
       "        text-align: right;\n",
       "    }\n",
       "</style>\n",
       "<table border=\"1\" class=\"dataframe\">\n",
       "  <thead>\n",
       "    <tr style=\"text-align: right;\">\n",
       "      <th></th>\n",
       "      <th>R&amp;D Spend</th>\n",
       "      <th>Administration</th>\n",
       "      <th>Marketing Spend</th>\n",
       "      <th>State</th>\n",
       "      <th>Profit</th>\n",
       "    </tr>\n",
       "  </thead>\n",
       "  <tbody>\n",
       "    <tr>\n",
       "      <th>990</th>\n",
       "      <td>136133.00</td>\n",
       "      <td>130561.8371</td>\n",
       "      <td>331448.0344</td>\n",
       "      <td>California</td>\n",
       "      <td>165330.14630</td>\n",
       "    </tr>\n",
       "    <tr>\n",
       "      <th>991</th>\n",
       "      <td>131106.00</td>\n",
       "      <td>129819.4269</td>\n",
       "      <td>321748.4242</td>\n",
       "      <td>New York</td>\n",
       "      <td>161035.62360</td>\n",
       "    </tr>\n",
       "    <tr>\n",
       "      <th>992</th>\n",
       "      <td>105127.00</td>\n",
       "      <td>125982.7298</td>\n",
       "      <td>271621.8728</td>\n",
       "      <td>Florida</td>\n",
       "      <td>138841.98810</td>\n",
       "    </tr>\n",
       "    <tr>\n",
       "      <th>993</th>\n",
       "      <td>46798.00</td>\n",
       "      <td>117368.4374</td>\n",
       "      <td>159075.9080</td>\n",
       "      <td>California</td>\n",
       "      <td>89012.02672</td>\n",
       "    </tr>\n",
       "    <tr>\n",
       "      <th>994</th>\n",
       "      <td>97209.00</td>\n",
       "      <td>124813.3635</td>\n",
       "      <td>256344.0701</td>\n",
       "      <td>New York</td>\n",
       "      <td>132077.70900</td>\n",
       "    </tr>\n",
       "    <tr>\n",
       "      <th>995</th>\n",
       "      <td>54135.00</td>\n",
       "      <td>118451.9990</td>\n",
       "      <td>173232.6695</td>\n",
       "      <td>California</td>\n",
       "      <td>95279.96251</td>\n",
       "    </tr>\n",
       "    <tr>\n",
       "      <th>996</th>\n",
       "      <td>134970.00</td>\n",
       "      <td>130390.0800</td>\n",
       "      <td>329204.0228</td>\n",
       "      <td>California</td>\n",
       "      <td>164336.60550</td>\n",
       "    </tr>\n",
       "    <tr>\n",
       "      <th>997</th>\n",
       "      <td>100275.47</td>\n",
       "      <td>241926.3100</td>\n",
       "      <td>227142.8200</td>\n",
       "      <td>California</td>\n",
       "      <td>413956.48000</td>\n",
       "    </tr>\n",
       "    <tr>\n",
       "      <th>998</th>\n",
       "      <td>128456.23</td>\n",
       "      <td>321652.1400</td>\n",
       "      <td>281692.3200</td>\n",
       "      <td>California</td>\n",
       "      <td>333962.19000</td>\n",
       "    </tr>\n",
       "    <tr>\n",
       "      <th>999</th>\n",
       "      <td>161181.72</td>\n",
       "      <td>270939.8600</td>\n",
       "      <td>295442.1700</td>\n",
       "      <td>New York</td>\n",
       "      <td>476485.43000</td>\n",
       "    </tr>\n",
       "  </tbody>\n",
       "</table>\n",
       "</div>"
      ],
      "text/plain": [
       "     R&D Spend  Administration  Marketing Spend       State        Profit\n",
       "990  136133.00     130561.8371      331448.0344  California  165330.14630\n",
       "991  131106.00     129819.4269      321748.4242    New York  161035.62360\n",
       "992  105127.00     125982.7298      271621.8728     Florida  138841.98810\n",
       "993   46798.00     117368.4374      159075.9080  California   89012.02672\n",
       "994   97209.00     124813.3635      256344.0701    New York  132077.70900\n",
       "995   54135.00     118451.9990      173232.6695  California   95279.96251\n",
       "996  134970.00     130390.0800      329204.0228  California  164336.60550\n",
       "997  100275.47     241926.3100      227142.8200  California  413956.48000\n",
       "998  128456.23     321652.1400      281692.3200  California  333962.19000\n",
       "999  161181.72     270939.8600      295442.1700    New York  476485.43000"
      ]
     },
     "execution_count": 140,
     "metadata": {},
     "output_type": "execute_result"
    }
   ],
   "source": [
    "df.tail(10)"
   ]
  },
  {
   "cell_type": "code",
   "execution_count": 141,
   "id": "a93b0331",
   "metadata": {},
   "outputs": [
    {
     "data": {
      "text/plain": [
       "California    344\n",
       "New York      334\n",
       "Florida       322\n",
       "Name: State, dtype: int64"
      ]
     },
     "execution_count": 141,
     "metadata": {},
     "output_type": "execute_result"
    }
   ],
   "source": [
    "df['State'].value_counts()"
   ]
  },
  {
   "cell_type": "code",
   "execution_count": 142,
   "id": "d2e9fcd8",
   "metadata": {},
   "outputs": [],
   "source": [
    "data = df.copy(deep=True)"
   ]
  },
  {
   "cell_type": "markdown",
   "id": "827e8816",
   "metadata": {},
   "source": [
    "### 3.1.3 DataShape\n",
    "* Getting the shape of the dataset: Displaying the number of rows and columns"
   ]
  },
  {
   "cell_type": "code",
   "execution_count": 143,
   "id": "6ab0bc74",
   "metadata": {},
   "outputs": [
    {
     "name": "stdout",
     "output_type": "stream",
     "text": [
      "Our dataset has 1000 rows and 5 columns\n"
     ]
    }
   ],
   "source": [
    "df.shape\n",
    "print(f'Our dataset has {df.shape[0]} rows and {df.shape[1]} columns')"
   ]
  },
  {
   "cell_type": "markdown",
   "id": "47e2f910",
   "metadata": {},
   "source": [
    "### 3.1.5 Data Details\n",
    "* Getting the percentage of missing data in our dataset"
   ]
  },
  {
   "cell_type": "code",
   "execution_count": 144,
   "id": "d1cfb97b",
   "metadata": {},
   "outputs": [
    {
     "data": {
      "text/plain": [
       "R&D Spend          0.0\n",
       "Administration     0.0\n",
       "Marketing Spend    0.0\n",
       "State              0.0\n",
       "Profit             0.0\n",
       "dtype: float64"
      ]
     },
     "execution_count": 144,
     "metadata": {},
     "output_type": "execute_result"
    }
   ],
   "source": [
    "# Geting the null values in the data\n",
    "df.isnull().sum()/df.shape[0]*100"
   ]
  },
  {
   "cell_type": "code",
   "execution_count": 145,
   "id": "7b576bc4",
   "metadata": {},
   "outputs": [
    {
     "data": {
      "text/html": [
       "<div>\n",
       "<style scoped>\n",
       "    .dataframe tbody tr th:only-of-type {\n",
       "        vertical-align: middle;\n",
       "    }\n",
       "\n",
       "    .dataframe tbody tr th {\n",
       "        vertical-align: top;\n",
       "    }\n",
       "\n",
       "    .dataframe thead th {\n",
       "        text-align: right;\n",
       "    }\n",
       "</style>\n",
       "<table border=\"1\" class=\"dataframe\">\n",
       "  <thead>\n",
       "    <tr style=\"text-align: right;\">\n",
       "      <th></th>\n",
       "      <th>R&amp;D Spend</th>\n",
       "      <th>Administration</th>\n",
       "      <th>Marketing Spend</th>\n",
       "      <th>Profit</th>\n",
       "    </tr>\n",
       "  </thead>\n",
       "  <tbody>\n",
       "    <tr>\n",
       "      <th>R&amp;D Spend</th>\n",
       "      <td>1.000000</td>\n",
       "      <td>0.582434</td>\n",
       "      <td>0.978407</td>\n",
       "      <td>0.945245</td>\n",
       "    </tr>\n",
       "    <tr>\n",
       "      <th>Administration</th>\n",
       "      <td>0.582434</td>\n",
       "      <td>1.000000</td>\n",
       "      <td>0.520465</td>\n",
       "      <td>0.741560</td>\n",
       "    </tr>\n",
       "    <tr>\n",
       "      <th>Marketing Spend</th>\n",
       "      <td>0.978407</td>\n",
       "      <td>0.520465</td>\n",
       "      <td>1.000000</td>\n",
       "      <td>0.917270</td>\n",
       "    </tr>\n",
       "    <tr>\n",
       "      <th>Profit</th>\n",
       "      <td>0.945245</td>\n",
       "      <td>0.741560</td>\n",
       "      <td>0.917270</td>\n",
       "      <td>1.000000</td>\n",
       "    </tr>\n",
       "  </tbody>\n",
       "</table>\n",
       "</div>"
      ],
      "text/plain": [
       "                 R&D Spend  Administration  Marketing Spend    Profit\n",
       "R&D Spend         1.000000        0.582434         0.978407  0.945245\n",
       "Administration    0.582434        1.000000         0.520465  0.741560\n",
       "Marketing Spend   0.978407        0.520465         1.000000  0.917270\n",
       "Profit            0.945245        0.741560         0.917270  1.000000"
      ]
     },
     "execution_count": 145,
     "metadata": {},
     "output_type": "execute_result"
    }
   ],
   "source": [
    "df.corr()"
   ]
  },
  {
   "cell_type": "markdown",
   "id": "f239f340",
   "metadata": {},
   "source": [
    "* No missing data"
   ]
  },
  {
   "cell_type": "code",
   "execution_count": 136,
   "id": "b87c7ebd",
   "metadata": {},
   "outputs": [],
   "source": [
    "# dropping duplicate data\n",
    "df = df.drop_duplicates(keep = 'first', inplace = True)"
   ]
  },
  {
   "cell_type": "markdown",
   "id": "e74fc87e",
   "metadata": {},
   "source": [
    "### 3.1.7 Data Description\n",
    "* Getting the mean sales, maximum sales, minimum sales and standard deviation from the dataset\n"
   ]
  },
  {
   "cell_type": "code",
   "execution_count": 146,
   "id": "9e25378e",
   "metadata": {},
   "outputs": [
    {
     "data": {
      "text/html": [
       "<div>\n",
       "<style scoped>\n",
       "    .dataframe tbody tr th:only-of-type {\n",
       "        vertical-align: middle;\n",
       "    }\n",
       "\n",
       "    .dataframe tbody tr th {\n",
       "        vertical-align: top;\n",
       "    }\n",
       "\n",
       "    .dataframe thead th {\n",
       "        text-align: right;\n",
       "    }\n",
       "</style>\n",
       "<table border=\"1\" class=\"dataframe\">\n",
       "  <thead>\n",
       "    <tr style=\"text-align: right;\">\n",
       "      <th></th>\n",
       "      <th>R&amp;D Spend</th>\n",
       "      <th>Administration</th>\n",
       "      <th>Marketing Spend</th>\n",
       "      <th>Profit</th>\n",
       "    </tr>\n",
       "  </thead>\n",
       "  <tbody>\n",
       "    <tr>\n",
       "      <th>count</th>\n",
       "      <td>1000.000000</td>\n",
       "      <td>1000.000000</td>\n",
       "      <td>1000.000000</td>\n",
       "      <td>1000.000000</td>\n",
       "    </tr>\n",
       "    <tr>\n",
       "      <th>mean</th>\n",
       "      <td>81668.927200</td>\n",
       "      <td>122963.897612</td>\n",
       "      <td>226205.058419</td>\n",
       "      <td>119546.164656</td>\n",
       "    </tr>\n",
       "    <tr>\n",
       "      <th>std</th>\n",
       "      <td>46537.567891</td>\n",
       "      <td>12613.927535</td>\n",
       "      <td>91578.393542</td>\n",
       "      <td>42888.633848</td>\n",
       "    </tr>\n",
       "    <tr>\n",
       "      <th>min</th>\n",
       "      <td>0.000000</td>\n",
       "      <td>51283.140000</td>\n",
       "      <td>0.000000</td>\n",
       "      <td>14681.400000</td>\n",
       "    </tr>\n",
       "    <tr>\n",
       "      <th>25%</th>\n",
       "      <td>43084.500000</td>\n",
       "      <td>116640.684850</td>\n",
       "      <td>150969.584600</td>\n",
       "      <td>85943.198543</td>\n",
       "    </tr>\n",
       "    <tr>\n",
       "      <th>50%</th>\n",
       "      <td>79936.000000</td>\n",
       "      <td>122421.612150</td>\n",
       "      <td>224517.887350</td>\n",
       "      <td>117641.466300</td>\n",
       "    </tr>\n",
       "    <tr>\n",
       "      <th>75%</th>\n",
       "      <td>124565.500000</td>\n",
       "      <td>129139.118000</td>\n",
       "      <td>308189.808525</td>\n",
       "      <td>155577.107425</td>\n",
       "    </tr>\n",
       "    <tr>\n",
       "      <th>max</th>\n",
       "      <td>165349.200000</td>\n",
       "      <td>321652.140000</td>\n",
       "      <td>471784.100000</td>\n",
       "      <td>476485.430000</td>\n",
       "    </tr>\n",
       "  </tbody>\n",
       "</table>\n",
       "</div>"
      ],
      "text/plain": [
       "           R&D Spend  Administration  Marketing Spend         Profit\n",
       "count    1000.000000     1000.000000      1000.000000    1000.000000\n",
       "mean    81668.927200   122963.897612    226205.058419  119546.164656\n",
       "std     46537.567891    12613.927535     91578.393542   42888.633848\n",
       "min         0.000000    51283.140000         0.000000   14681.400000\n",
       "25%     43084.500000   116640.684850    150969.584600   85943.198543\n",
       "50%     79936.000000   122421.612150    224517.887350  117641.466300\n",
       "75%    124565.500000   129139.118000    308189.808525  155577.107425\n",
       "max    165349.200000   321652.140000    471784.100000  476485.430000"
      ]
     },
     "execution_count": 146,
     "metadata": {},
     "output_type": "execute_result"
    }
   ],
   "source": [
    "df.describe()"
   ]
  },
  {
   "cell_type": "markdown",
   "id": "a4c3f1fe",
   "metadata": {},
   "source": [
    "# 5.0 Data Understanding (EDA)\n",
    "\n",
    "* The main aim of EDA in por dataset is to get an understanding of the Data, Gain insights into the dataset's structure, patterns, and relationships. This involves summarizing the main characteristics of the data, often with visual methods."
   ]
  },
  {
   "cell_type": "code",
   "execution_count": 148,
   "id": "04efc23f",
   "metadata": {},
   "outputs": [
    {
     "data": {
      "text/html": [
       "<div>\n",
       "<style scoped>\n",
       "    .dataframe tbody tr th:only-of-type {\n",
       "        vertical-align: middle;\n",
       "    }\n",
       "\n",
       "    .dataframe tbody tr th {\n",
       "        vertical-align: top;\n",
       "    }\n",
       "\n",
       "    .dataframe thead th {\n",
       "        text-align: right;\n",
       "    }\n",
       "</style>\n",
       "<table border=\"1\" class=\"dataframe\">\n",
       "  <thead>\n",
       "    <tr style=\"text-align: right;\">\n",
       "      <th></th>\n",
       "      <th>R&amp;D Spend</th>\n",
       "      <th>Administration</th>\n",
       "      <th>Marketing Spend</th>\n",
       "      <th>Profit</th>\n",
       "      <th>State_California</th>\n",
       "      <th>State_Florida</th>\n",
       "      <th>State_New York</th>\n",
       "    </tr>\n",
       "  </thead>\n",
       "  <tbody>\n",
       "    <tr>\n",
       "      <th>0</th>\n",
       "      <td>165349.20</td>\n",
       "      <td>136897.80</td>\n",
       "      <td>471784.10</td>\n",
       "      <td>192261.83</td>\n",
       "      <td>0</td>\n",
       "      <td>0</td>\n",
       "      <td>1</td>\n",
       "    </tr>\n",
       "    <tr>\n",
       "      <th>1</th>\n",
       "      <td>162597.70</td>\n",
       "      <td>151377.59</td>\n",
       "      <td>443898.53</td>\n",
       "      <td>191792.06</td>\n",
       "      <td>1</td>\n",
       "      <td>0</td>\n",
       "      <td>0</td>\n",
       "    </tr>\n",
       "    <tr>\n",
       "      <th>2</th>\n",
       "      <td>153441.51</td>\n",
       "      <td>101145.55</td>\n",
       "      <td>407934.54</td>\n",
       "      <td>191050.39</td>\n",
       "      <td>0</td>\n",
       "      <td>1</td>\n",
       "      <td>0</td>\n",
       "    </tr>\n",
       "    <tr>\n",
       "      <th>3</th>\n",
       "      <td>144372.41</td>\n",
       "      <td>118671.85</td>\n",
       "      <td>383199.62</td>\n",
       "      <td>182901.99</td>\n",
       "      <td>0</td>\n",
       "      <td>0</td>\n",
       "      <td>1</td>\n",
       "    </tr>\n",
       "    <tr>\n",
       "      <th>4</th>\n",
       "      <td>142107.34</td>\n",
       "      <td>91391.77</td>\n",
       "      <td>366168.42</td>\n",
       "      <td>166187.94</td>\n",
       "      <td>0</td>\n",
       "      <td>1</td>\n",
       "      <td>0</td>\n",
       "    </tr>\n",
       "    <tr>\n",
       "      <th>5</th>\n",
       "      <td>131876.90</td>\n",
       "      <td>99814.71</td>\n",
       "      <td>362861.36</td>\n",
       "      <td>156991.12</td>\n",
       "      <td>0</td>\n",
       "      <td>0</td>\n",
       "      <td>1</td>\n",
       "    </tr>\n",
       "    <tr>\n",
       "      <th>6</th>\n",
       "      <td>134615.46</td>\n",
       "      <td>147198.87</td>\n",
       "      <td>127716.82</td>\n",
       "      <td>156122.51</td>\n",
       "      <td>1</td>\n",
       "      <td>0</td>\n",
       "      <td>0</td>\n",
       "    </tr>\n",
       "    <tr>\n",
       "      <th>7</th>\n",
       "      <td>130298.13</td>\n",
       "      <td>145530.06</td>\n",
       "      <td>323876.68</td>\n",
       "      <td>155752.60</td>\n",
       "      <td>0</td>\n",
       "      <td>1</td>\n",
       "      <td>0</td>\n",
       "    </tr>\n",
       "    <tr>\n",
       "      <th>8</th>\n",
       "      <td>120542.52</td>\n",
       "      <td>148718.95</td>\n",
       "      <td>311613.29</td>\n",
       "      <td>152211.77</td>\n",
       "      <td>0</td>\n",
       "      <td>0</td>\n",
       "      <td>1</td>\n",
       "    </tr>\n",
       "    <tr>\n",
       "      <th>9</th>\n",
       "      <td>123334.88</td>\n",
       "      <td>108679.17</td>\n",
       "      <td>304981.62</td>\n",
       "      <td>149759.96</td>\n",
       "      <td>1</td>\n",
       "      <td>0</td>\n",
       "      <td>0</td>\n",
       "    </tr>\n",
       "  </tbody>\n",
       "</table>\n",
       "</div>"
      ],
      "text/plain": [
       "   R&D Spend  Administration  Marketing Spend     Profit  State_California  \\\n",
       "0  165349.20       136897.80        471784.10  192261.83                 0   \n",
       "1  162597.70       151377.59        443898.53  191792.06                 1   \n",
       "2  153441.51       101145.55        407934.54  191050.39                 0   \n",
       "3  144372.41       118671.85        383199.62  182901.99                 0   \n",
       "4  142107.34        91391.77        366168.42  166187.94                 0   \n",
       "5  131876.90        99814.71        362861.36  156991.12                 0   \n",
       "6  134615.46       147198.87        127716.82  156122.51                 1   \n",
       "7  130298.13       145530.06        323876.68  155752.60                 0   \n",
       "8  120542.52       148718.95        311613.29  152211.77                 0   \n",
       "9  123334.88       108679.17        304981.62  149759.96                 1   \n",
       "\n",
       "   State_Florida  State_New York  \n",
       "0              0               1  \n",
       "1              0               0  \n",
       "2              1               0  \n",
       "3              0               1  \n",
       "4              1               0  \n",
       "5              0               1  \n",
       "6              0               0  \n",
       "7              1               0  \n",
       "8              0               1  \n",
       "9              0               0  "
      ]
     },
     "execution_count": 148,
     "metadata": {},
     "output_type": "execute_result"
    }
   ],
   "source": [
    "# Changing the data\n",
    "df = pd.get_dummies(df,drop_first = False)\n",
    "df.head(10)"
   ]
  },
  {
   "cell_type": "code",
   "execution_count": 149,
   "id": "0a2fa2a2",
   "metadata": {},
   "outputs": [
    {
     "data": {
      "text/html": [
       "<div>\n",
       "<style scoped>\n",
       "    .dataframe tbody tr th:only-of-type {\n",
       "        vertical-align: middle;\n",
       "    }\n",
       "\n",
       "    .dataframe tbody tr th {\n",
       "        vertical-align: top;\n",
       "    }\n",
       "\n",
       "    .dataframe thead th {\n",
       "        text-align: right;\n",
       "    }\n",
       "</style>\n",
       "<table border=\"1\" class=\"dataframe\">\n",
       "  <thead>\n",
       "    <tr style=\"text-align: right;\">\n",
       "      <th></th>\n",
       "      <th>R&amp;D Spend</th>\n",
       "      <th>Administration</th>\n",
       "      <th>Marketing Spend</th>\n",
       "      <th>Profit</th>\n",
       "      <th>State_Florida</th>\n",
       "      <th>State_New York</th>\n",
       "      <th>State_California</th>\n",
       "    </tr>\n",
       "  </thead>\n",
       "  <tbody>\n",
       "    <tr>\n",
       "      <th>0</th>\n",
       "      <td>165349.20</td>\n",
       "      <td>136897.80</td>\n",
       "      <td>471784.10</td>\n",
       "      <td>192261.83</td>\n",
       "      <td>0</td>\n",
       "      <td>1</td>\n",
       "      <td>0</td>\n",
       "    </tr>\n",
       "    <tr>\n",
       "      <th>1</th>\n",
       "      <td>162597.70</td>\n",
       "      <td>151377.59</td>\n",
       "      <td>443898.53</td>\n",
       "      <td>191792.06</td>\n",
       "      <td>0</td>\n",
       "      <td>0</td>\n",
       "      <td>1</td>\n",
       "    </tr>\n",
       "    <tr>\n",
       "      <th>2</th>\n",
       "      <td>153441.51</td>\n",
       "      <td>101145.55</td>\n",
       "      <td>407934.54</td>\n",
       "      <td>191050.39</td>\n",
       "      <td>1</td>\n",
       "      <td>0</td>\n",
       "      <td>0</td>\n",
       "    </tr>\n",
       "    <tr>\n",
       "      <th>3</th>\n",
       "      <td>144372.41</td>\n",
       "      <td>118671.85</td>\n",
       "      <td>383199.62</td>\n",
       "      <td>182901.99</td>\n",
       "      <td>0</td>\n",
       "      <td>1</td>\n",
       "      <td>0</td>\n",
       "    </tr>\n",
       "    <tr>\n",
       "      <th>4</th>\n",
       "      <td>142107.34</td>\n",
       "      <td>91391.77</td>\n",
       "      <td>366168.42</td>\n",
       "      <td>166187.94</td>\n",
       "      <td>1</td>\n",
       "      <td>0</td>\n",
       "      <td>0</td>\n",
       "    </tr>\n",
       "    <tr>\n",
       "      <th>5</th>\n",
       "      <td>131876.90</td>\n",
       "      <td>99814.71</td>\n",
       "      <td>362861.36</td>\n",
       "      <td>156991.12</td>\n",
       "      <td>0</td>\n",
       "      <td>1</td>\n",
       "      <td>0</td>\n",
       "    </tr>\n",
       "    <tr>\n",
       "      <th>6</th>\n",
       "      <td>134615.46</td>\n",
       "      <td>147198.87</td>\n",
       "      <td>127716.82</td>\n",
       "      <td>156122.51</td>\n",
       "      <td>0</td>\n",
       "      <td>0</td>\n",
       "      <td>1</td>\n",
       "    </tr>\n",
       "    <tr>\n",
       "      <th>7</th>\n",
       "      <td>130298.13</td>\n",
       "      <td>145530.06</td>\n",
       "      <td>323876.68</td>\n",
       "      <td>155752.60</td>\n",
       "      <td>1</td>\n",
       "      <td>0</td>\n",
       "      <td>0</td>\n",
       "    </tr>\n",
       "    <tr>\n",
       "      <th>8</th>\n",
       "      <td>120542.52</td>\n",
       "      <td>148718.95</td>\n",
       "      <td>311613.29</td>\n",
       "      <td>152211.77</td>\n",
       "      <td>0</td>\n",
       "      <td>1</td>\n",
       "      <td>0</td>\n",
       "    </tr>\n",
       "    <tr>\n",
       "      <th>9</th>\n",
       "      <td>123334.88</td>\n",
       "      <td>108679.17</td>\n",
       "      <td>304981.62</td>\n",
       "      <td>149759.96</td>\n",
       "      <td>0</td>\n",
       "      <td>0</td>\n",
       "      <td>1</td>\n",
       "    </tr>\n",
       "  </tbody>\n",
       "</table>\n",
       "</div>"
      ],
      "text/plain": [
       "   R&D Spend  Administration  Marketing Spend     Profit  State_Florida  \\\n",
       "0  165349.20       136897.80        471784.10  192261.83              0   \n",
       "1  162597.70       151377.59        443898.53  191792.06              0   \n",
       "2  153441.51       101145.55        407934.54  191050.39              1   \n",
       "3  144372.41       118671.85        383199.62  182901.99              0   \n",
       "4  142107.34        91391.77        366168.42  166187.94              1   \n",
       "5  131876.90        99814.71        362861.36  156991.12              0   \n",
       "6  134615.46       147198.87        127716.82  156122.51              0   \n",
       "7  130298.13       145530.06        323876.68  155752.60              1   \n",
       "8  120542.52       148718.95        311613.29  152211.77              0   \n",
       "9  123334.88       108679.17        304981.62  149759.96              0   \n",
       "\n",
       "   State_New York  State_California  \n",
       "0               1                 0  \n",
       "1               0                 1  \n",
       "2               0                 0  \n",
       "3               1                 0  \n",
       "4               0                 0  \n",
       "5               1                 0  \n",
       "6               0                 1  \n",
       "7               0                 0  \n",
       "8               1                 0  \n",
       "9               0                 1  "
      ]
     },
     "execution_count": 149,
     "metadata": {},
     "output_type": "execute_result"
    }
   ],
   "source": [
    "df = df.loc[:,['R&D Spend','Administration', 'Marketing Spend','Profit','State_Florida','State_New York','State_California']]\n",
    "df.head(10)"
   ]
  },
  {
   "cell_type": "markdown",
   "id": "a5ce27f5",
   "metadata": {},
   "source": [
    "# 1.Distribution of the target against R and D"
   ]
  },
  {
   "cell_type": "code",
   "execution_count": 152,
   "id": "9f4672df",
   "metadata": {},
   "outputs": [
    {
     "data": {
      "image/png": "[encoded data removed]",
      "text/plain": [
       "<Figure size 432x288 with 1 Axes>"
      ]
     },
     "metadata": {},
     "output_type": "display_data"
    }
   ],
   "source": [
    "sns.distplot(df['R&D Spend']);"
   ]
  },
  {
   "cell_type": "code",
   "execution_count": 154,
   "id": "78b883a4",
   "metadata": {},
   "outputs": [
    {
     "data": {
      "image/png": "[encoded data removed]",
      "text/plain": [
       "<Figure size 432x288 with 1 Axes>"
      ]
     },
     "metadata": {},
     "output_type": "display_data"
    }
   ],
   "source": [
    "sns.boxplot(df['R&D Spend']);"
   ]
  },
  {
   "cell_type": "code",
   "execution_count": 155,
   "id": "ec2ae1fd",
   "metadata": {},
   "outputs": [
    {
     "data": {
      "text/plain": [
       "174744.06298297833"
      ]
     },
     "execution_count": 155,
     "metadata": {},
     "output_type": "execute_result"
    }
   ],
   "source": [
    "upper_division = df['R&D Spend'].mean() + 2*df['R&D Spend'].std()\n",
    "upper_division"
   ]
  },
  {
   "cell_type": "code",
   "execution_count": 156,
   "id": "71565541",
   "metadata": {},
   "outputs": [
    {
     "data": {
      "text/plain": [
       "-11406.208582978317"
      ]
     },
     "execution_count": 156,
     "metadata": {},
     "output_type": "execute_result"
    }
   ],
   "source": [
    "lower_division = df['R&D Spend'].mean() - 2*df['R&D Spend'].std()\n",
    "lower_division"
   ]
  },
  {
   "cell_type": "code",
   "execution_count": null,
   "id": "8985ce3f",
   "metadata": {},
   "outputs": [],
   "source": []
  },
  {
   "cell_type": "code",
   "execution_count": 157,
   "id": "b92f6481",
   "metadata": {},
   "outputs": [
    {
     "data": {
      "text/html": [
       "<div>\n",
       "<style scoped>\n",
       "    .dataframe tbody tr th:only-of-type {\n",
       "        vertical-align: middle;\n",
       "    }\n",
       "\n",
       "    .dataframe tbody tr th {\n",
       "        vertical-align: top;\n",
       "    }\n",
       "\n",
       "    .dataframe thead th {\n",
       "        text-align: right;\n",
       "    }\n",
       "</style>\n",
       "<table border=\"1\" class=\"dataframe\">\n",
       "  <thead>\n",
       "    <tr style=\"text-align: right;\">\n",
       "      <th></th>\n",
       "      <th>R&amp;D Spend</th>\n",
       "      <th>Administration</th>\n",
       "      <th>Marketing Spend</th>\n",
       "      <th>Profit</th>\n",
       "    </tr>\n",
       "  </thead>\n",
       "  <tbody>\n",
       "  </tbody>\n",
       "</table>\n",
       "</div>"
      ],
      "text/plain": [
       "Empty DataFrame\n",
       "Columns: [R&D Spend, Administration, Marketing Spend, Profit]\n",
       "Index: []"
      ]
     },
     "execution_count": 157,
     "metadata": {},
     "output_type": "execute_result"
    }
   ],
   "source": [
    "dfs_filtered = dfs[(dfs['R&D Spend']> upper_division) | (dfs['R&D Spend']<lower_division)]\n",
    "dfs_filtered"
   ]
  },
  {
   "cell_type": "markdown",
   "id": "df1c5c6b",
   "metadata": {},
   "source": [
    "* No Outliers"
   ]
  },
  {
   "cell_type": "markdown",
   "id": "f8459615",
   "metadata": {},
   "source": [
    "# 2.Distribution of profit and marketing spend"
   ]
  },
  {
   "cell_type": "code",
   "execution_count": 158,
   "id": "3f3503a4",
   "metadata": {},
   "outputs": [
    {
     "data": {
      "text/html": [
       "<div>\n",
       "<style scoped>\n",
       "    .dataframe tbody tr th:only-of-type {\n",
       "        vertical-align: middle;\n",
       "    }\n",
       "\n",
       "    .dataframe tbody tr th {\n",
       "        vertical-align: top;\n",
       "    }\n",
       "\n",
       "    .dataframe thead th {\n",
       "        text-align: right;\n",
       "    }\n",
       "</style>\n",
       "<table border=\"1\" class=\"dataframe\">\n",
       "  <thead>\n",
       "    <tr style=\"text-align: right;\">\n",
       "      <th></th>\n",
       "      <th>Marketing Spend</th>\n",
       "      <th>Profit</th>\n",
       "    </tr>\n",
       "  </thead>\n",
       "  <tbody>\n",
       "    <tr>\n",
       "      <th>0</th>\n",
       "      <td>471784.10</td>\n",
       "      <td>192261.83</td>\n",
       "    </tr>\n",
       "    <tr>\n",
       "      <th>1</th>\n",
       "      <td>443898.53</td>\n",
       "      <td>191792.06</td>\n",
       "    </tr>\n",
       "    <tr>\n",
       "      <th>2</th>\n",
       "      <td>407934.54</td>\n",
       "      <td>191050.39</td>\n",
       "    </tr>\n",
       "    <tr>\n",
       "      <th>3</th>\n",
       "      <td>383199.62</td>\n",
       "      <td>182901.99</td>\n",
       "    </tr>\n",
       "    <tr>\n",
       "      <th>4</th>\n",
       "      <td>366168.42</td>\n",
       "      <td>166187.94</td>\n",
       "    </tr>\n",
       "    <tr>\n",
       "      <th>5</th>\n",
       "      <td>362861.36</td>\n",
       "      <td>156991.12</td>\n",
       "    </tr>\n",
       "    <tr>\n",
       "      <th>6</th>\n",
       "      <td>127716.82</td>\n",
       "      <td>156122.51</td>\n",
       "    </tr>\n",
       "    <tr>\n",
       "      <th>7</th>\n",
       "      <td>323876.68</td>\n",
       "      <td>155752.60</td>\n",
       "    </tr>\n",
       "    <tr>\n",
       "      <th>8</th>\n",
       "      <td>311613.29</td>\n",
       "      <td>152211.77</td>\n",
       "    </tr>\n",
       "    <tr>\n",
       "      <th>9</th>\n",
       "      <td>304981.62</td>\n",
       "      <td>149759.96</td>\n",
       "    </tr>\n",
       "  </tbody>\n",
       "</table>\n",
       "</div>"
      ],
      "text/plain": [
       "   Marketing Spend     Profit\n",
       "0        471784.10  192261.83\n",
       "1        443898.53  191792.06\n",
       "2        407934.54  191050.39\n",
       "3        383199.62  182901.99\n",
       "4        366168.42  166187.94\n",
       "5        362861.36  156991.12\n",
       "6        127716.82  156122.51\n",
       "7        323876.68  155752.60\n",
       "8        311613.29  152211.77\n",
       "9        304981.62  149759.96"
      ]
     },
     "execution_count": 158,
     "metadata": {},
     "output_type": "execute_result"
    }
   ],
   "source": [
    "df_ms = df.loc[:,['Marketing Spend','Profit']]\n",
    "df_ms.head(10)"
   ]
  },
  {
   "cell_type": "markdown",
   "id": "a4400259",
   "metadata": {},
   "source": [
    "## Ploting a histogram Distribution and bell curve"
   ]
  },
  {
   "cell_type": "code",
   "execution_count": 160,
   "id": "4b105d45",
   "metadata": {},
   "outputs": [
    {
     "data": {
      "image/png": "[encoded data removed]",
      "text/plain": [
       "<Figure size 432x288 with 1 Axes>"
      ]
     },
     "metadata": {},
     "output_type": "display_data"
    }
   ],
   "source": [
    "# Simpler ploting method\n",
    "sns.distplot(df['Marketing Spend']);"
   ]
  },
  {
   "cell_type": "code",
   "execution_count": 161,
   "id": "a2af7aed",
   "metadata": {},
   "outputs": [
    {
     "data": {
      "text/plain": [
       "<matplotlib.axes._subplots.AxesSubplot at 0x1417f350>"
      ]
     },
     "execution_count": 161,
     "metadata": {},
     "output_type": "execute_result"
    },
    {
     "data": {
      "image/png": "[encoded data removed]",
      "text/plain": [
       "<Figure size 432x288 with 1 Axes>"
      ]
     },
     "metadata": {},
     "output_type": "display_data"
    }
   ],
   "source": [
    "sns.boxplot(df['Marketing Spend'])"
   ]
  },
  {
   "cell_type": "markdown",
   "id": "8dd2edda",
   "metadata": {},
   "source": [
    "## Removing Outliers"
   ]
  },
  {
   "cell_type": "code",
   "execution_count": 162,
   "id": "396679ab",
   "metadata": {},
   "outputs": [
    {
     "data": {
      "text/plain": [
       "471784.1"
      ]
     },
     "execution_count": 162,
     "metadata": {},
     "output_type": "execute_result"
    }
   ],
   "source": [
    "df_ms['Marketing Spend'].max()"
   ]
  },
  {
   "cell_type": "code",
   "execution_count": 163,
   "id": "4606b8d3",
   "metadata": {},
   "outputs": [
    {
     "name": "stdout",
     "output_type": "stream",
     "text": [
      "Upper deviation 500940.23904514324\n",
      "Upper deviation -48530.12220748261\n"
     ]
    }
   ],
   "source": [
    "# Finding the upper Divition\n",
    "upper_dev = df_ms['Marketing Spend'].mean() + 3*df_ms['Marketing Spend'].std()\n",
    "print(f'Upper deviation {upper_dev}' )\n",
    "\n",
    "lower_dev = df_ms['Marketing Spend'].mean() - 3*df_ms['Marketing Spend'].std()\n",
    "print(f'Upper deviation {lower_dev}' )"
   ]
  },
  {
   "cell_type": "code",
   "execution_count": 164,
   "id": "eeca36ab",
   "metadata": {},
   "outputs": [
    {
     "data": {
      "text/html": [
       "<div>\n",
       "<style scoped>\n",
       "    .dataframe tbody tr th:only-of-type {\n",
       "        vertical-align: middle;\n",
       "    }\n",
       "\n",
       "    .dataframe tbody tr th {\n",
       "        vertical-align: top;\n",
       "    }\n",
       "\n",
       "    .dataframe thead th {\n",
       "        text-align: right;\n",
       "    }\n",
       "</style>\n",
       "<table border=\"1\" class=\"dataframe\">\n",
       "  <thead>\n",
       "    <tr style=\"text-align: right;\">\n",
       "      <th></th>\n",
       "      <th>Marketing Spend</th>\n",
       "      <th>Profit</th>\n",
       "    </tr>\n",
       "  </thead>\n",
       "  <tbody>\n",
       "  </tbody>\n",
       "</table>\n",
       "</div>"
      ],
      "text/plain": [
       "Empty DataFrame\n",
       "Columns: [Marketing Spend, Profit]\n",
       "Index: []"
      ]
     },
     "execution_count": 164,
     "metadata": {},
     "output_type": "execute_result"
    }
   ],
   "source": [
    "#Displaying the df with the outliers\n",
    "# df[df_ms['Marketing Spend']>upper_dev | df_ms['Marketing Spend']< lower_dev ]\n",
    "\n",
    "df_filtered = df_ms[(df_ms['Marketing Spend'] > upper_dev) | (df_ms['Marketing Spend'] < lower_dev)]\n",
    "df_filtered"
   ]
  },
  {
   "cell_type": "markdown",
   "id": "c4865a7b",
   "metadata": {},
   "source": [
    "* No Outliers"
   ]
  },
  {
   "cell_type": "markdown",
   "id": "a0ea8d44",
   "metadata": {},
   "source": [
    "# 3. Distribution of profit with Administration\n"
   ]
  },
  {
   "cell_type": "code",
   "execution_count": 197,
   "id": "f130f41a",
   "metadata": {},
   "outputs": [
    {
     "data": {
      "text/html": [
       "<div>\n",
       "<style scoped>\n",
       "    .dataframe tbody tr th:only-of-type {\n",
       "        vertical-align: middle;\n",
       "    }\n",
       "\n",
       "    .dataframe tbody tr th {\n",
       "        vertical-align: top;\n",
       "    }\n",
       "\n",
       "    .dataframe thead th {\n",
       "        text-align: right;\n",
       "    }\n",
       "</style>\n",
       "<table border=\"1\" class=\"dataframe\">\n",
       "  <thead>\n",
       "    <tr style=\"text-align: right;\">\n",
       "      <th></th>\n",
       "      <th>Administration</th>\n",
       "    </tr>\n",
       "  </thead>\n",
       "  <tbody>\n",
       "    <tr>\n",
       "      <th>0</th>\n",
       "      <td>136897.80</td>\n",
       "    </tr>\n",
       "    <tr>\n",
       "      <th>1</th>\n",
       "      <td>151377.59</td>\n",
       "    </tr>\n",
       "    <tr>\n",
       "      <th>2</th>\n",
       "      <td>101145.55</td>\n",
       "    </tr>\n",
       "    <tr>\n",
       "      <th>3</th>\n",
       "      <td>118671.85</td>\n",
       "    </tr>\n",
       "    <tr>\n",
       "      <th>4</th>\n",
       "      <td>91391.77</td>\n",
       "    </tr>\n",
       "    <tr>\n",
       "      <th>5</th>\n",
       "      <td>99814.71</td>\n",
       "    </tr>\n",
       "    <tr>\n",
       "      <th>6</th>\n",
       "      <td>147198.87</td>\n",
       "    </tr>\n",
       "    <tr>\n",
       "      <th>7</th>\n",
       "      <td>145530.06</td>\n",
       "    </tr>\n",
       "    <tr>\n",
       "      <th>8</th>\n",
       "      <td>148718.95</td>\n",
       "    </tr>\n",
       "    <tr>\n",
       "      <th>9</th>\n",
       "      <td>108679.17</td>\n",
       "    </tr>\n",
       "  </tbody>\n",
       "</table>\n",
       "</div>"
      ],
      "text/plain": [
       "   Administration\n",
       "0       136897.80\n",
       "1       151377.59\n",
       "2       101145.55\n",
       "3       118671.85\n",
       "4        91391.77\n",
       "5        99814.71\n",
       "6       147198.87\n",
       "7       145530.06\n",
       "8       148718.95\n",
       "9       108679.17"
      ]
     },
     "execution_count": 197,
     "metadata": {},
     "output_type": "execute_result"
    }
   ],
   "source": [
    "df_ad = df.loc[:,['Administration']]\n",
    "df_ad.head(10)"
   ]
  },
  {
   "cell_type": "code",
   "execution_count": null,
   "id": "9d94c22a",
   "metadata": {},
   "outputs": [],
   "source": []
  },
  {
   "cell_type": "code",
   "execution_count": 166,
   "id": "f2d32966",
   "metadata": {},
   "outputs": [
    {
     "data": {
      "text/plain": [
       "<matplotlib.axes._subplots.AxesSubplot at 0x1419beb0>"
      ]
     },
     "execution_count": 166,
     "metadata": {},
     "output_type": "execute_result"
    },
    {
     "data": {
      "image/png": "[encoded data removed]",
      "text/plain": [
       "<Figure size 432x288 with 1 Axes>"
      ]
     },
     "metadata": {},
     "output_type": "display_data"
    }
   ],
   "source": [
    "# Ploting a histogram for r and d spend against profit\n",
    "sns.distplot(df['Administration'])"
   ]
  },
  {
   "cell_type": "code",
   "execution_count": 167,
   "id": "0436e82b",
   "metadata": {},
   "outputs": [
    {
     "data": {
      "text/plain": [
       "<matplotlib.axes._subplots.AxesSubplot at 0x1a0b2ad0>"
      ]
     },
     "execution_count": 167,
     "metadata": {},
     "output_type": "execute_result"
    },
    {
     "data": {
      "image/png": "[encoded data removed]",
      "text/plain": [
       "<Figure size 432x288 with 1 Axes>"
      ]
     },
     "metadata": {},
     "output_type": "display_data"
    }
   ],
   "source": [
    "sns.boxplot(df['Administration'])"
   ]
  },
  {
   "cell_type": "code",
   "execution_count": 174,
   "id": "55e3c384",
   "metadata": {},
   "outputs": [
    {
     "data": {
      "text/html": [
       "<div>\n",
       "<style scoped>\n",
       "    .dataframe tbody tr th:only-of-type {\n",
       "        vertical-align: middle;\n",
       "    }\n",
       "\n",
       "    .dataframe tbody tr th {\n",
       "        vertical-align: top;\n",
       "    }\n",
       "\n",
       "    .dataframe thead th {\n",
       "        text-align: right;\n",
       "    }\n",
       "</style>\n",
       "<table border=\"1\" class=\"dataframe\">\n",
       "  <thead>\n",
       "    <tr style=\"text-align: right;\">\n",
       "      <th></th>\n",
       "      <th>count</th>\n",
       "      <th>mean</th>\n",
       "      <th>std</th>\n",
       "      <th>min</th>\n",
       "      <th>25%</th>\n",
       "      <th>50%</th>\n",
       "      <th>75%</th>\n",
       "      <th>max</th>\n",
       "    </tr>\n",
       "  </thead>\n",
       "  <tbody>\n",
       "    <tr>\n",
       "      <th>Administration</th>\n",
       "      <td>1000.0</td>\n",
       "      <td>122963.897612</td>\n",
       "      <td>12613.927535</td>\n",
       "      <td>51283.14</td>\n",
       "      <td>116640.684850</td>\n",
       "      <td>122421.61215</td>\n",
       "      <td>129139.118000</td>\n",
       "      <td>321652.14</td>\n",
       "    </tr>\n",
       "    <tr>\n",
       "      <th>Profit</th>\n",
       "      <td>1000.0</td>\n",
       "      <td>119546.164656</td>\n",
       "      <td>42888.633848</td>\n",
       "      <td>14681.40</td>\n",
       "      <td>85943.198543</td>\n",
       "      <td>117641.46630</td>\n",
       "      <td>155577.107425</td>\n",
       "      <td>476485.43</td>\n",
       "    </tr>\n",
       "  </tbody>\n",
       "</table>\n",
       "</div>"
      ],
      "text/plain": [
       "                 count           mean           std       min            25%  \\\n",
       "Administration  1000.0  122963.897612  12613.927535  51283.14  116640.684850   \n",
       "Profit          1000.0  119546.164656  42888.633848  14681.40   85943.198543   \n",
       "\n",
       "                         50%            75%        max  \n",
       "Administration  122421.61215  129139.118000  321652.14  \n",
       "Profit          117641.46630  155577.107425  476485.43  "
      ]
     },
     "execution_count": 174,
     "metadata": {},
     "output_type": "execute_result"
    }
   ],
   "source": [
    "df_ad.describe().T"
   ]
  },
  {
   "cell_type": "code",
   "execution_count": 171,
   "id": "2506f74a",
   "metadata": {},
   "outputs": [
    {
     "data": {
      "text/plain": [
       "Administration    122963.897612\n",
       "Profit            119546.164656\n",
       "dtype: float64"
      ]
     },
     "execution_count": 171,
     "metadata": {},
     "output_type": "execute_result"
    }
   ],
   "source": [
    "df_ad.mean()"
   ]
  },
  {
   "cell_type": "code",
   "execution_count": 172,
   "id": "df6c6c06",
   "metadata": {},
   "outputs": [
    {
     "data": {
      "text/plain": [
       "25227.85506926199"
      ]
     },
     "execution_count": 172,
     "metadata": {},
     "output_type": "execute_result"
    }
   ],
   "source": [
    "2*df_ad['Administration'].std()"
   ]
  },
  {
   "cell_type": "code",
   "execution_count": 201,
   "id": "e6ea55ab",
   "metadata": {},
   "outputs": [
    {
     "name": "stdout",
     "output_type": "stream",
     "text": [
      "Upper deviation 97893.035125\n",
      "lower deviation 147886.76772500004\n"
     ]
    }
   ],
   "source": [
    "# Finding the upper Divition\n",
    "upper_devs = df_ad['Administration'].quantile(0.25) - 1.5*iqr\n",
    "print(f'Upper deviation {upper_devs}' )\n",
    "\n",
    "lower_devs = df_ad['Administration'].quantile(0.75) + 1.5*iqr\n",
    "print(f'lower deviation {lower_devs}' )"
   ]
  },
  {
   "cell_type": "code",
   "execution_count": 202,
   "id": "b601a448",
   "metadata": {},
   "outputs": [
    {
     "data": {
      "text/html": [
       "<div>\n",
       "<style scoped>\n",
       "    .dataframe tbody tr th:only-of-type {\n",
       "        vertical-align: middle;\n",
       "    }\n",
       "\n",
       "    .dataframe tbody tr th {\n",
       "        vertical-align: top;\n",
       "    }\n",
       "\n",
       "    .dataframe thead th {\n",
       "        text-align: right;\n",
       "    }\n",
       "</style>\n",
       "<table border=\"1\" class=\"dataframe\">\n",
       "  <thead>\n",
       "    <tr style=\"text-align: right;\">\n",
       "      <th></th>\n",
       "      <th>Administration</th>\n",
       "    </tr>\n",
       "  </thead>\n",
       "  <tbody>\n",
       "  </tbody>\n",
       "</table>\n",
       "</div>"
      ],
      "text/plain": [
       "Empty DataFrame\n",
       "Columns: [Administration]\n",
       "Index: []"
      ]
     },
     "execution_count": 202,
     "metadata": {},
     "output_type": "execute_result"
    }
   ],
   "source": [
    "df_ad.loc[(df_ad['Administration'] > upper_dev) | (df_ad['Administration'] < lower_dev)]"
   ]
  },
  {
   "cell_type": "code",
   "execution_count": 203,
   "id": "077e524a",
   "metadata": {},
   "outputs": [
    {
     "data": {
      "text/html": [
       "<div>\n",
       "<style scoped>\n",
       "    .dataframe tbody tr th:only-of-type {\n",
       "        vertical-align: middle;\n",
       "    }\n",
       "\n",
       "    .dataframe tbody tr th {\n",
       "        vertical-align: top;\n",
       "    }\n",
       "\n",
       "    .dataframe thead th {\n",
       "        text-align: right;\n",
       "    }\n",
       "</style>\n",
       "<table border=\"1\" class=\"dataframe\">\n",
       "  <thead>\n",
       "    <tr style=\"text-align: right;\">\n",
       "      <th></th>\n",
       "      <th>Administration</th>\n",
       "    </tr>\n",
       "  </thead>\n",
       "  <tbody>\n",
       "  </tbody>\n",
       "</table>\n",
       "</div>"
      ],
      "text/plain": [
       "Empty DataFrame\n",
       "Columns: [Administration]\n",
       "Index: []"
      ]
     },
     "execution_count": 203,
     "metadata": {},
     "output_type": "execute_result"
    }
   ],
   "source": [
    "#Displaying the df with the outliers\n",
    "# df[df_ms['Marketing Spend']>upper_dev | df_ms['Marketing Spend']< lower_dev ]\n",
    "\n",
    "df_filtereds = df_ad[(df_ad['Administration'] > upper_dev) | (df_ad['Administration'] < lower_dev)]\n",
    "df_filtereds"
   ]
  },
  {
   "cell_type": "markdown",
   "id": "6632da92",
   "metadata": {},
   "source": [
    "* No Outliers "
   ]
  },
  {
   "cell_type": "code",
   "execution_count": 182,
   "id": "7c585982",
   "metadata": {},
   "outputs": [],
   "source": [
    "lower = df_ad['Administration'].quantile(0.25)\n",
    "upper = df_ad['Administration'].quantile(0.75)"
   ]
  },
  {
   "cell_type": "code",
   "execution_count": 184,
   "id": "28dcb264",
   "metadata": {},
   "outputs": [
    {
     "name": "stdout",
     "output_type": "stream",
     "text": [
      "lower: 116640.68485\n",
      "upper: 129139.11800000002\n"
     ]
    }
   ],
   "source": [
    "print('lower:',lower)\n",
    "print('upper:',upper)\n"
   ]
  },
  {
   "cell_type": "code",
   "execution_count": 195,
   "id": "2dbee215",
   "metadata": {},
   "outputs": [
    {
     "data": {
      "text/plain": [
       "18747.649725000017"
      ]
     },
     "execution_count": 195,
     "metadata": {},
     "output_type": "execute_result"
    }
   ],
   "source": [
    "iqr = upper - lower\n",
    "iqr*1.5"
   ]
  },
  {
   "cell_type": "code",
   "execution_count": 196,
   "id": "8201f377",
   "metadata": {},
   "outputs": [
    {
     "data": {
      "text/plain": [
       "97893.035125"
      ]
     },
     "execution_count": 196,
     "metadata": {},
     "output_type": "execute_result"
    }
   ],
   "source": [
    "lower-(iqr*1.5)"
   ]
  },
  {
   "cell_type": "code",
   "execution_count": null,
   "id": "dcbc9254",
   "metadata": {},
   "outputs": [],
   "source": [
    "upper-"
   ]
  },
  {
   "cell_type": "code",
   "execution_count": 187,
   "id": "d693ea9d",
   "metadata": {},
   "outputs": [
    {
     "data": {
      "text/plain": [
       "12613.927534630995"
      ]
     },
     "execution_count": 187,
     "metadata": {},
     "output_type": "execute_result"
    }
   ],
   "source": [
    "df_ad['Administration'].std()"
   ]
  },
  {
   "cell_type": "code",
   "execution_count": null,
   "id": "be34869b",
   "metadata": {},
   "outputs": [],
   "source": [
    "def remove_outliers_iqr(df):\n",
    "    numeric_df = df.select_dtypes(include=[np.number])\n",
    "    Q1 = numeric_df.quantile(0.25)\n",
    "    Q3 = numeric_df.quantile(0.75)\n",
    "    IQR = Q3 - Q1\n",
    "    lower_bound = Q1 - 1.5 * IQR\n",
    "    upper_bound = Q3 + 1.5 * IQR\n",
    "    # Filter out the outliers for numeric columns\n",
    "    filtered_df = numeric_df[~((numeric_df < lower_bound) | (numeric_df > upper_bound)).any(axis=1)]\n",
    "    # Returning the filtered DataFrame with non-numeric columns\n",
    "    return df.loc[filtered_df.index]"
   ]
  },
  {
   "cell_type": "markdown",
   "id": "4984df22",
   "metadata": {},
   "source": [
    "## Correlation Analysis"
   ]
  },
  {
   "cell_type": "code",
   "execution_count": 63,
   "id": "e69606f2",
   "metadata": {},
   "outputs": [
    {
     "data": {
      "image/png": "[encoded data removed]",
      "text/plain": [
       "<Figure size 432x288 with 2 Axes>"
      ]
     },
     "metadata": {},
     "output_type": "display_data"
    }
   ],
   "source": [
    "numeric_features = ['R&D Spend', 'Marketing Spend', 'Administration','Profit']\n",
    "\n",
    "# compute correlatin matrix\n",
    "corr_matrix = df[numeric_features].corr()\n",
    "\n",
    "# Generate a mask for the upper triangle\n",
    "mask = np.triu(np.ones_like(corr_matrix,dtype = bool))\n",
    "\n",
    "# Plot correlation heatmap with triane shape\n",
    "\n",
    "sns.heatmap(corr_matrix,mask=mask, annot= True , cmap = 'coolwarm')\n",
    "plt.title('Correlation HeatMap')\n",
    "plt.show()"
   ]
  },
  {
   "cell_type": "markdown",
   "id": "618efcec",
   "metadata": {},
   "source": [
    "## state-Profit  Correlation"
   ]
  },
  {
   "cell_type": "code",
   "execution_count": 57,
   "id": "df7e1f66",
   "metadata": {},
   "outputs": [
    {
     "data": {
      "image/png": "[encoded data removed]",
      "text/plain": [
       "<Figure size 432x288 with 1 Axes>"
      ]
     },
     "metadata": {},
     "output_type": "display_data"
    }
   ],
   "source": [
    "# Set plot\n",
    "sns.set(style='darkgrid')\n",
    "sns.boxplot(x='State',y='Profit',data = data)\n",
    "plt.title('Profit by State')\n",
    "plt.show()"
   ]
  },
  {
   "cell_type": "markdown",
   "id": "92ba8a58",
   "metadata": {},
   "source": [
    "## RD SPEND TO PROIT"
   ]
  },
  {
   "cell_type": "code",
   "execution_count": 59,
   "id": "244e22fe",
   "metadata": {},
   "outputs": [
    {
     "data": {
      "image/png": "[encoded data removed]",
      "text/plain": [
       "<Figure size 432x288 with 1 Axes>"
      ]
     },
     "metadata": {},
     "output_type": "display_data"
    }
   ],
   "source": [
    "# Set plot\n",
    "sns.set(style='darkgrid')\n",
    "sns.boxplot(x='State',y = 'Profit', data = data)\n",
    "plt.title('r^d vs profit')\n",
    "plt.show()"
   ]
  },
  {
   "cell_type": "markdown",
   "id": "d846dc37",
   "metadata": {},
   "source": [
    "## Defining the X and y\n"
   ]
  },
  {
   "cell_type": "code",
   "execution_count": 11,
   "id": "7d6aadc8",
   "metadata": {},
   "outputs": [],
   "source": [
    "target = 'Profit'\n",
    "X = df.drop(target,axis=1)\n",
    "y = df[target]"
   ]
  },
  {
   "cell_type": "markdown",
   "id": "07479f92",
   "metadata": {},
   "source": [
    "# Splitting the model"
   ]
  },
  {
   "cell_type": "code",
   "execution_count": 12,
   "id": "67ca58a1",
   "metadata": {},
   "outputs": [],
   "source": [
    "# splitting the data set into x test, x train, y test y train\n",
    "X_train, X_test, y_train, y_test = train_test_split(X, y, test_size=0.2, random_state = 42)"
   ]
  },
  {
   "cell_type": "markdown",
   "id": "ce3ea565",
   "metadata": {},
   "source": [
    "# 1st Model"
   ]
  },
  {
   "cell_type": "code",
   "execution_count": 13,
   "id": "e9b5194e",
   "metadata": {},
   "outputs": [
    {
     "name": "stdout",
     "output_type": "stream",
     "text": [
      " Score for Linear regresion training data 0.9412268025828195\n",
      " Score for Linear regresion testing data 0.9825277846008162\n",
      "Training Data MSE: 109107426.78277354\n",
      "Test Data MSE: 30775142.85678117\n"
     ]
    }
   ],
   "source": [
    "\n",
    "\n",
    "\n",
    "\n",
    "\n",
    "\n",
    "# Creating the model\n",
    "model  = LinearRegression()\n",
    "model.fit(X_train,y_train)\n",
    "\n",
    "\n",
    "# Print R2 and MSE for training and test sets\n",
    "# # 3. Predict the target variable for both the training and test data\n",
    "print(f\" Score for Linear regresion training data {model.score(X_train,y_train)}\" )\n",
    "print(f\" Score for Linear regresion testing data {model.score(X_test,y_test)}\" )\n",
    "\n",
    "# # Compute  MSE for the test data\n",
    "y_train_pred = model.predict(X_train)\n",
    "y_test_pred = model.predict(X_test)\n",
    "\n",
    "\n",
    "train_mse = mean_squared_error(y_train,y_train_pred)\n",
    "test_mse = mean_squared_error(y_test,y_test_pred)\n",
    "\n",
    "# Printing MSE for the train data\n",
    "print(\"Training Data MSE:\", train_mse)\n",
    "\n",
    "# Printing MSE for the test data\n",
    "print(\"Test Data MSE:\", test_mse)"
   ]
  },
  {
   "cell_type": "code",
   "execution_count": 15,
   "id": "beb21f64",
   "metadata": {},
   "outputs": [
    {
     "name": "stdout",
     "output_type": "stream",
     "text": [
      "Mean Absolute Error (MAE) - Train: 2286.0665334467553\n",
      "Mean Absolute Error (MAE) - Test: 1404.4378483075998\n",
      "Mean Squared Error (MSE) - Train: 109107426.78277354\n",
      "Mean Squared Error (MSE) - Test: 30775142.85678117\n"
     ]
    }
   ],
   "source": [
    "# Calculate metrics\n",
    "mae_train = mean_absolute_error(y_train, y_train_pred)\n",
    "mae_test = mean_absolute_error(y_test, y_test_pred)\n",
    "\n",
    "mse_train = mean_squared_error(y_train, y_train_pred)\n",
    "mse_test = mean_squared_error(y_test, y_test_pred)\n",
    "\n",
    "\n",
    "# Print the metrics\n",
    "print(\"Mean Absolute Error (MAE) - Train:\", mae_train)\n",
    "print(\"Mean Absolute Error (MAE) - Test:\", mae_test)\n",
    "print(\"Mean Squared Error (MSE) - Train:\", mse_train)\n",
    "print(\"Mean Squared Error (MSE) - Test:\", mse_test)\n"
   ]
  },
  {
   "cell_type": "code",
   "execution_count": null,
   "id": "3824bf49",
   "metadata": {},
   "outputs": [],
   "source": []
  }
 ],
 "metadata": {
  "kernelspec": {
   "display_name": "Python 3 (ipykernel)",
   "language": "python",
   "name": "python3"
  },
  "language_info": {
   "codemirror_mode": {
    "name": "ipython",
    "version": 3
   },
   "file_extension": ".py",
   "mimetype": "text/x-python",
   "name": "python",
   "nbconvert_exporter": "python",
   "pygments_lexer": "ipython3",
   "version": "3.12.4"
  }
 },
 "nbformat": 4,
 "nbformat_minor": 5
}
